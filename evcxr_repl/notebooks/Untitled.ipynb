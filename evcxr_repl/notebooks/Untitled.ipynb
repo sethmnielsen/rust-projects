{
 "cells": [
  {
   "cell_type": "code",
   "execution_count": 11,
   "metadata": {},
   "outputs": [],
   "source": [
    ":dep ndarray = \"0.13.0\""
   ]
  },
  {
   "cell_type": "code",
   "execution_count": 15,
   "metadata": {},
   "outputs": [],
   "source": [
    "extern crate ndarray;\n",
    "\n",
    "use ndarray::Array;\n",
    "use ndarray::Axis;\n",
    "use std::iter::FromIterator;"
   ]
  },
  {
   "cell_type": "code",
   "execution_count": 16,
   "metadata": {},
   "outputs": [
    {
     "ename": "Error",
     "evalue": "`a` does not live long enough",
     "output_type": "error",
     "traceback": [
      "let mut iter = a.axis_chunks_iter(Axis(1), 1);",
      "\u001b[91m               ^\u001b[0m \u001b[94mborrowed value does not live long enough\u001b[0m",
      "let mut iter = a.axis_chunks_iter(Axis(1), 1);",
      "\u001b[91m               ^^^^^^^^^^^^^^^^^^^^^^^^^^^^^^\u001b[0m \u001b[94margument requires that `a` is borrowed for `'static`\u001b[0m",
      "`a` does not live long enough"
     ]
    },
    {
     "ename": "Error",
     "evalue": "cannot move out of `a` because it is borrowed",
     "output_type": "error",
     "traceback": [
      "let mut iter = a.axis_chunks_iter(Axis(1), 1);",
      "\u001b[91m               ^\u001b[0m \u001b[94mborrow of `a` occurs here\u001b[0m",
      "let mut iter = a.axis_chunks_iter(Axis(1), 1);",
      "\u001b[91m               ^^^^^^^^^^^^^^^^^^^^^^^^^^^^^^\u001b[0m \u001b[94margument requires that `a` is borrowed for `'static`\u001b[0m",
      "cannot move out of `a` because it is borrowed"
     ]
    }
   ],
   "source": [
    "let a = Array::from_iter(0..28).into_shape((2, 7, 2)).unwrap();\n",
    "let mut iter = a.axis_chunks_iter(Axis(1), 1);\n",
    "\n",
    "//     println!(\"a:\\n{:#?}\\n\", a);\n",
    "//     println!(\"iter.next():\\n{:#?}\", iter.next().unwrap())\n",
    "    \n",
    "iter.next().unwrap()\n"
   ]
  },
  {
   "cell_type": "code",
   "execution_count": null,
   "metadata": {},
   "outputs": [],
   "source": []
  }
 ],
 "metadata": {
  "kernelspec": {
   "display_name": "Rust",
   "language": "rust",
   "name": "rust"
  },
  "language_info": {
   "codemirror_mode": "rust",
   "file_extension": ".rs",
   "mimetype": "text/rust",
   "name": "Rust",
   "pygment_lexer": "rust",
   "version": ""
  }
 },
 "nbformat": 4,
 "nbformat_minor": 2
}
